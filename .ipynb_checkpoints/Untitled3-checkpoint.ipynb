{
 "cells": [
  {
   "cell_type": "code",
   "execution_count": null,
   "id": "b9783c4a",
   "metadata": {},
   "outputs": [],
   "source": [
    "import cv2"
   ]
  },
  {
   "cell_type": "code",
   "execution_count": 2,
   "id": "cffaefcf",
   "metadata": {},
   "outputs": [],
   "source": [
    "import matplotlib.pyplot as plt"
   ]
  },
  {
   "cell_type": "code",
   "execution_count": 11,
   "id": "326260f0",
   "metadata": {},
   "outputs": [],
   "source": [
    "import time"
   ]
  },
  {
   "cell_type": "code",
   "execution_count": 12,
   "id": "203a88fe",
   "metadata": {},
   "outputs": [],
   "source": [
    "import threading"
   ]
  },
  {
   "cell_type": "code",
   "execution_count": 3,
   "id": "8178fd68",
   "metadata": {},
   "outputs": [],
   "source": [
    "config_file = 'ssd_mobilenet_v3_large_coco_2020_01_14.pbtxt'\n",
    "frozen_model ='frozen_inference_graph.pb'"
   ]
  },
  {
   "cell_type": "code",
   "execution_count": 4,
   "id": "d8d53ff3",
   "metadata": {},
   "outputs": [],
   "source": [
    "model = cv2.dnn_DetectionModel(frozen_model,config_file)"
   ]
  },
  {
   "cell_type": "code",
   "execution_count": 5,
   "id": "ac897c56",
   "metadata": {},
   "outputs": [],
   "source": [
    "classLabels = [] #empty list in python \n",
    "file_name='labels.txt'\n",
    "with open(file_name,'rt') as fpt:\n",
    "    classLabels=fpt.read().rstrip('\\n').split('\\n')\n",
    "    #classmembers.append(fpt.read())"
   ]
  },
  {
   "cell_type": "code",
   "execution_count": 6,
   "id": "bebb20f2",
   "metadata": {},
   "outputs": [
    {
     "name": "stdout",
     "output_type": "stream",
     "text": [
      "['person', 'bicycle', 'car', 'motorbike', 'aeroplane', 'bus', 'train', 'truck', 'boat', 'traffic light', 'fire hydrant', 'stop sign', 'parking meter', 'bench', 'bird', 'cat', 'dog', 'horse', 'sheep', 'cow', 'elephant', 'bear', 'zebra', 'giraffe', 'backpack', 'umbrella', 'handbag', 'tie', 'suitcase', 'frisbee', 'skis', 'snowboard', 'sports ball', 'kite', 'baseball bat', 'baseball glove', 'skateboard', 'surfboard', 'tennis racket', 'bottle', 'wine glass', 'cup', 'fork', 'knife', 'spoon', 'bowl', 'banana', 'apple', 'sandwich', 'orange', 'broccoli', 'carrot', 'hot dog', 'pizza', 'donut', 'cake', 'chair', 'sofa', 'pottedplant', 'bed', 'diningtable', 'toilet', 'tvmonitor', 'laptop', 'mouse', 'remote', 'keyboard', 'cell phone', 'microwave', 'oven', 'toaster', 'sink', 'refrigerator', 'book', 'clock', 'vase', 'scissors', 'teddy bear', 'hair drier', 'toothbrush']\n"
     ]
    }
   ],
   "source": [
    "print(classLabels)"
   ]
  },
  {
   "cell_type": "code",
   "execution_count": 7,
   "id": "8dbe4d7e",
   "metadata": {
    "scrolled": true
   },
   "outputs": [
    {
     "data": {
      "text/plain": [
       "<dnn_Model 0000011C478BC450>"
      ]
     },
     "execution_count": 7,
     "metadata": {},
     "output_type": "execute_result"
    }
   ],
   "source": [
    "model.setInputSize(320,320)\n",
    "model.setInputScale(1.0/127.5) # 255/2 (grey level/2)\n",
    "model.setInputMean((127.5,127.5,127.5))#mobilenet -> [-1,1]\n",
    "model.setInputSwapRB(True)"
   ]
  },
  {
   "cell_type": "code",
   "execution_count": null,
   "id": "74b8413d",
   "metadata": {},
   "outputs": [],
   "source": [
    "from1 = False\n",
    "from2 = False"
   ]
  },
  {
   "cell_type": "code",
   "execution_count": 9,
   "id": "5217fda0",
   "metadata": {},
   "outputs": [],
   "source": [
    "def direction1():\n",
    "    cap = cv2.VideoCapture(\"opp.mp4\")\n",
    "    if not cap.isOpened():\n",
    "        cap = cv2.VideoCapture(0)\n",
    "    if not cap.isOpened():\n",
    "        raise IOError(\"Cannot open video\")\n",
    "\n",
    "    font_scale = 3\n",
    "    font = cv2.FONT_HERSHEY_PLAIN\n",
    "\n",
    "    while True:\n",
    "        ret,frame = cap.read()\n",
    "\n",
    "        ClassIndex, confidece, bbox= model.detect(frame, confThreshold= 0.55)\n",
    "    \n",
    "        print(ClassIndex)\n",
    "        if (len(ClassIndex)!=0):\n",
    "            i=2\n",
    "            for ( ClassInd, i ,boxes) in zip(ClassIndex.flatten(), confidece.flatten(), bbox):\n",
    "            # for i, (name, age) in enumerate(zip(ClassIndex.flatten(), confidece.flatten(), bbox)):\n",
    "                if (ClassInd==1):\n",
    "                    a =cv2.rectangle(frame,boxes,(255,0,0),2)\n",
    "                    # print(boxes[int(i)])\n",
    "                    q=boxes[int(i-1)]\n",
    "                    # print(q)\n",
    "                    if(q > boxes[int(i+1)]):\n",
    "                        from1 = True\n",
    "                    else:\n",
    "                        from1 = False\n",
    "                    cv2.putText(frame,classLabels[ClassInd-1],(boxes[0]+10,boxes[1]+40),font,fontScale=font_scale,color=(0,255,0),thickness=3)\n",
    "                    i=i+1\n",
    "                    # print(int(i+1))\n",
    "                \n",
    "        cv2.imshow('Object Detection Tutorial',frame)\n",
    "             \n",
    "        if cv2.waitKey(2) & 0xFF == ord('q'):\n",
    "            break\n",
    "             \n",
    "    cap.release()\n",
    "    cv2.destroyAllWindows()"
   ]
  },
  {
   "cell_type": "code",
   "execution_count": 10,
   "id": "a3dcfab3",
   "metadata": {},
   "outputs": [],
   "source": [
    "def direction2():\n",
    "    cap = cv2.VideoCapture(\"opp.mp4\")\n",
    "    if not cap.isOpened():\n",
    "        cap = cv2.VideoCapture(0)\n",
    "    if not cap.isOpened():\n",
    "        raise IOError(\"Cannot open video\")\n",
    "\n",
    "    font_scale = 3\n",
    "    font = cv2.FONT_HERSHEY_PLAIN\n",
    "\n",
    "    while True:\n",
    "        ret,frame = cap.read()\n",
    "\n",
    "        ClassIndex, confidece, bbox= model.detect(frame, confThreshold= 0.55)\n",
    "    \n",
    "        print(ClassIndex)\n",
    "        if (len(ClassIndex)!=0):\n",
    "            i=2\n",
    "            for ( ClassInd, i ,boxes) in zip(ClassIndex.flatten(), confidece.flatten(), bbox):\n",
    "            # for i, (name, age) in enumerate(zip(ClassIndex.flatten(), confidece.flatten(), bbox)):\n",
    "                if (ClassInd==1):\n",
    "                    a =cv2.rectangle(frame,boxes,(255,0,0),2)\n",
    "                    # print(boxes[int(i)])\n",
    "                    q=boxes[int(i-1)]\n",
    "                    # print(q)\n",
    "                    if(q > boxes[int(i+1)]):\n",
    "                        from2 = True\n",
    "                    else:\n",
    "                        from2 = False\n",
    "                    cv2.putText(frame,classLabels[ClassInd-1],(boxes[0]+10,boxes[1]+40),font,fontScale=font_scale,color=(0,255,0),thickness=3)\n",
    "                    i=i+1\n",
    "                    # print(int(i+1))\n",
    "                \n",
    "        cv2.imshow('Object Detection Tutorial',frame)\n",
    "             \n",
    "        if cv2.waitKey(2) & 0xFF == ord('q'):\n",
    "            break\n",
    "             \n",
    "    cap.release()\n",
    "    cv2.destroyAllWindows()"
   ]
  },
  {
   "cell_type": "code",
   "execution_count": 13,
   "id": "7e9ff3c4",
   "metadata": {},
   "outputs": [],
   "source": [
    "t1 = threading.Thread(target=direction1)"
   ]
  },
  {
   "cell_type": "code",
   "execution_count": 14,
   "id": "43f1b927",
   "metadata": {},
   "outputs": [],
   "source": [
    "t2 = threading.Thread(target=direction2)"
   ]
  },
  {
   "cell_type": "code",
   "execution_count": null,
   "id": "9fad33c0",
   "metadata": {},
   "outputs": [],
   "source": []
  },
  {
   "cell_type": "code",
   "execution_count": null,
   "id": "6bce0e5a",
   "metadata": {},
   "outputs": [],
   "source": []
  },
  {
   "cell_type": "code",
   "execution_count": null,
   "id": "0436dbb1",
   "metadata": {},
   "outputs": [],
   "source": []
  }
 ],
 "metadata": {
  "kernelspec": {
   "display_name": "Python 3 (ipykernel)",
   "language": "python",
   "name": "python3"
  },
  "language_info": {
   "codemirror_mode": {
    "name": "ipython",
    "version": 3
   },
   "file_extension": ".py",
   "mimetype": "text/x-python",
   "name": "python",
   "nbconvert_exporter": "python",
   "pygments_lexer": "ipython3",
   "version": "3.9.7"
  }
 },
 "nbformat": 4,
 "nbformat_minor": 5
}
