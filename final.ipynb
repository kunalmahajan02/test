{
 "cells": [
  {
   "cell_type": "code",
   "execution_count": 1,
   "metadata": {},
   "outputs": [],
   "source": [
    "import cv2\n",
    "import time"
   ]
  },
  {
   "cell_type": "code",
   "execution_count": 4,
   "metadata": {},
   "outputs": [],
   "source": [
    "config_file = 'ssd_mobilenet_v3_large_coco_2020_01_14.pbtxt'\n",
    "frozen_model ='frozen_inference_graph.pb'\n",
    "model = cv2.dnn_DetectionModel(frozen_model,config_file)"
   ]
  },
  {
   "cell_type": "code",
   "execution_count": 6,
   "metadata": {},
   "outputs": [],
   "source": [
    "classLabels = [] \n",
    "file_name='labels.txt'\n",
    "with open(file_name,'rt') as fpt:\n",
    "    classLabels=fpt.read().rstrip('\\n').split('\\n') "
   ]
  },
  {
   "cell_type": "code",
   "execution_count": 7,
   "metadata": {},
   "outputs": [
    {
     "data": {
      "text/plain": [
       "<dnn_Model 000002093D75EAF0>"
      ]
     },
     "execution_count": 7,
     "metadata": {},
     "output_type": "execute_result"
    }
   ],
   "source": [
    "model.setInputSize(320,320)\n",
    "model.setInputScale(1.0/127.5) # 255/2 (grey level/2)\n",
    "model.setInputMean((127.5,127.5,127.5))\n",
    "model.setInputSwapRB(True)"
   ]
  },
  {
   "cell_type": "code",
   "execution_count": 8,
   "metadata": {},
   "outputs": [],
   "source": [
    "from1 = False\n",
    "from2 = False\n",
    "count = 0"
   ]
  },
  {
   "cell_type": "code",
   "execution_count": 32,
   "metadata": {},
   "outputs": [],
   "source": [
    "class CircularQueue:\n",
    "  \n",
    "  def __init__(self, maxSize):\n",
    "    self.queue = [None for i in range(maxSize)]\n",
    "    self.maxSize = maxSize\n",
    "    self.head = 0\n",
    "    self.tail = 0\n",
    "\n",
    "  def enqueue(self, data):\n",
    "    self.queue[self.tail] = data\n",
    "    self.tail = (self.tail+1) % self.maxSize\n",
    "    return\n",
    "  \n",
    "  def last(self):\n",
    "    return self.queue[(self.tail-2)%self.maxSize]\n",
    "    \n",
    "  def last2(self):\n",
    "    return self.queue[(self.tail-3)%self.maxSize]\n",
    "  \n",
    "size = 4\n",
    "q = CircularQueue(int(size))\n",
    "r = CircularQueue(int(size))\n",
    "\n",
    "for i in range(size):\n",
    "  q.enqueue(100000)\n",
    "  r.enqueue(100000)"
   ]
  },
  {
   "cell_type": "code",
   "execution_count": 34,
   "metadata": {},
   "outputs": [],
   "source": [
    "def compare():\n",
    "\n",
    "    font_scale = 3\n",
    "    font = cv2.FONT_HERSHEY_PLAIN\n",
    "    cap1 = cv2.VideoCapture(0)\n",
    "    cap2 = cv2.VideoCapture(1)\n",
    "    while(True):\n",
    "        cap1 = cv2.VideoCapture(0)\n",
    "        ret,frame1 = cap1.read()\n",
    "        ClassIndex1, confidece1, bbox1= model.detect(frame1, confThreshold= 0.55)\n",
    "    \n",
    "        if (len(ClassIndex1)!=0):\n",
    "            if(ClassIndex1[0]==1):\n",
    "                area = (bbox1[0][2]-bbox1[0][0])*(bbox1[0][3]-bbox1[0][1])\n",
    "                q.enqueue(area)\n",
    "                if(area > q.last() and area > q.last2()):\n",
    "                    from1 = True\n",
    "                else:\n",
    "                    from1 = False\n",
    "                print(area , q.last() ,q.last2() )\n",
    "        else:\n",
    "            from1 = False\n",
    "\n",
    "        # cv2.imshow('Object Detection Tutorial',frame1)\n",
    "        \n",
    "        cap2 = cv2.VideoCapture(1)\n",
    "        ret,frame2 = cap2.read()\n",
    "        ClassIndex2, confidece2, bbox2= model.detect(frame2, confThreshold= 0.55)\n",
    "    \n",
    "        if (len(ClassIndex2)!=0):\n",
    "            if(ClassIndex2[0]==1):\n",
    "                area = (bbox2[0][2]-bbox2[0][0])*(bbox2[0][3]-bbox2[0][1])\n",
    "                r.enqueue(area)\n",
    "                if(area > r.last() and area > r.last2()):\n",
    "                    from2 = True\n",
    "                else:\n",
    "                    from2 = False\n",
    "                print(area , r.last() , r.last2())\n",
    "        else:\n",
    "            from2 = False\n",
    "\n",
    "        # cv2.imshow('Object Detection Tutorial',frame2)\n",
    "\n",
    "        if(from1==True and from2==True):\n",
    "            print(\"Red\")\n",
    "            time.sleep(0.5)\n",
    "        else:\n",
    "            print(\"Green\")\n",
    "        time.sleep(0.5) \n",
    "        \n",
    "        if cv2.waitKey(2) & 0xFF == ord('q'):\n",
    "            break\n",
    "\n",
    "\n",
    "    cap1.release()\n",
    "    cap2.release()\n",
    "    cv2.destroyAllWindows()"
   ]
  },
  {
   "cell_type": "code",
   "execution_count": 35,
   "metadata": {},
   "outputs": [
    {
     "name": "stdout",
     "output_type": "stream",
     "text": [
      "168980 100000 100000\n",
      "226980 100000 100000\n",
      "Red\n",
      "14154 168980 100000\n",
      "-10304 226980 100000\n",
      "Green\n",
      "63855 14154 168980\n",
      "89760 -10304 226980\n",
      "Green\n",
      "21372 63855 14154\n",
      "-11040 89760 -10304\n",
      "Green\n",
      "152650 21372 63855\n",
      "160270 -11040 89760\n",
      "Red\n",
      "155100 152650 21372\n",
      "218530 160270 -11040\n",
      "Red\n",
      "211864 155100 152650\n",
      "291711 218530 160270\n",
      "Red\n",
      "156200 211864 155100\n",
      "266655 291711 218530\n",
      "Red\n",
      "51840 156200 211864\n",
      "266655 266655 291711\n",
      "Green\n",
      "193185 51840 156200\n",
      "203904 266655 266655\n",
      "Green\n",
      "-1358 193185 51840\n",
      "1656 203904 266655\n",
      "Green\n",
      "56304 -1358 193185\n",
      "65720 1656 203904\n",
      "Green\n",
      "71200 56304 -1358\n",
      "118592 65720 1656\n",
      "Green\n",
      "127007 71200 56304\n",
      "203688 118592 65720\n",
      "Red\n",
      "76560 127007 71200\n",
      "223200 203688 118592\n",
      "Red\n"
     ]
    },
    {
     "ename": "KeyboardInterrupt",
     "evalue": "",
     "output_type": "error",
     "traceback": [
      "\u001b[1;31m---------------------------------------------------------------------------\u001b[0m",
      "\u001b[1;31mKeyboardInterrupt\u001b[0m                         Traceback (most recent call last)",
      "\u001b[1;32mC:\\Users\\KUNALM~1\\AppData\\Local\\Temp/ipykernel_44424/4147958669.py\u001b[0m in \u001b[0;36m<module>\u001b[1;34m\u001b[0m\n\u001b[1;32m----> 1\u001b[1;33m \u001b[0mcompare\u001b[0m\u001b[1;33m(\u001b[0m\u001b[1;33m)\u001b[0m\u001b[1;33m\u001b[0m\u001b[1;33m\u001b[0m\u001b[0m\n\u001b[0m",
      "\u001b[1;32mC:\\Users\\KUNALM~1\\AppData\\Local\\Temp/ipykernel_44424/2168570816.py\u001b[0m in \u001b[0;36mcompare\u001b[1;34m()\u001b[0m\n\u001b[0;32m      5\u001b[0m     \u001b[0mfont\u001b[0m \u001b[1;33m=\u001b[0m \u001b[0mcv2\u001b[0m\u001b[1;33m.\u001b[0m\u001b[0mFONT_HERSHEY_PLAIN\u001b[0m\u001b[1;33m\u001b[0m\u001b[1;33m\u001b[0m\u001b[0m\n\u001b[0;32m      6\u001b[0m     \u001b[1;32mwhile\u001b[0m\u001b[1;33m(\u001b[0m\u001b[1;32mTrue\u001b[0m\u001b[1;33m)\u001b[0m\u001b[1;33m:\u001b[0m\u001b[1;33m\u001b[0m\u001b[1;33m\u001b[0m\u001b[0m\n\u001b[1;32m----> 7\u001b[1;33m         \u001b[0mcap1\u001b[0m \u001b[1;33m=\u001b[0m \u001b[0mcv2\u001b[0m\u001b[1;33m.\u001b[0m\u001b[0mVideoCapture\u001b[0m\u001b[1;33m(\u001b[0m\u001b[1;36m0\u001b[0m\u001b[1;33m)\u001b[0m\u001b[1;33m\u001b[0m\u001b[1;33m\u001b[0m\u001b[0m\n\u001b[0m\u001b[0;32m      8\u001b[0m         \u001b[0mret\u001b[0m\u001b[1;33m,\u001b[0m\u001b[0mframe1\u001b[0m \u001b[1;33m=\u001b[0m \u001b[0mcap1\u001b[0m\u001b[1;33m.\u001b[0m\u001b[0mread\u001b[0m\u001b[1;33m(\u001b[0m\u001b[1;33m)\u001b[0m\u001b[1;33m\u001b[0m\u001b[1;33m\u001b[0m\u001b[0m\n\u001b[0;32m      9\u001b[0m         \u001b[0mClassIndex1\u001b[0m\u001b[1;33m,\u001b[0m \u001b[0mconfidece1\u001b[0m\u001b[1;33m,\u001b[0m \u001b[0mbbox1\u001b[0m\u001b[1;33m=\u001b[0m \u001b[0mmodel\u001b[0m\u001b[1;33m.\u001b[0m\u001b[0mdetect\u001b[0m\u001b[1;33m(\u001b[0m\u001b[0mframe1\u001b[0m\u001b[1;33m,\u001b[0m \u001b[0mconfThreshold\u001b[0m\u001b[1;33m=\u001b[0m \u001b[1;36m0.55\u001b[0m\u001b[1;33m)\u001b[0m\u001b[1;33m\u001b[0m\u001b[1;33m\u001b[0m\u001b[0m\n",
      "\u001b[1;31mKeyboardInterrupt\u001b[0m: "
     ]
    }
   ],
   "source": [
    "compare()"
   ]
  },
  {
   "cell_type": "code",
   "execution_count": null,
   "metadata": {},
   "outputs": [],
   "source": []
  }
 ],
 "metadata": {
  "interpreter": {
   "hash": "8f33924181b35ee8e97a3ea8023d839f7a42629b03feabde5cd096c8bf0b175b"
  },
  "kernelspec": {
   "display_name": "Python 3.10.1 64-bit",
   "language": "python",
   "name": "python3"
  },
  "language_info": {
   "codemirror_mode": {
    "name": "ipython",
    "version": 3
   },
   "file_extension": ".py",
   "mimetype": "text/x-python",
   "name": "python",
   "nbconvert_exporter": "python",
   "pygments_lexer": "ipython3",
   "version": "3.10.1"
  },
  "orig_nbformat": 4
 },
 "nbformat": 4,
 "nbformat_minor": 2
}
